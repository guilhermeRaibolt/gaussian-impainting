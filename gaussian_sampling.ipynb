{
 "cells": [
  {
   "cell_type": "code",
   "execution_count": 11,
   "id": "bcb32de8",
   "metadata": {},
   "outputs": [
    {
     "name": "stdout",
     "output_type": "stream",
     "text": [
      "Requirement already satisfied: numpy in c:\\users\\guief\\anaconda3\\lib\\site-packages (1.26.4)\n"
     ]
    }
   ],
   "source": [
    "!pip install numpy"
   ]
  },
  {
   "cell_type": "code",
   "execution_count": 1,
   "id": "7392d869",
   "metadata": {},
   "outputs": [
    {
     "name": "stderr",
     "output_type": "stream",
     "text": [
      "<>:5: SyntaxWarning: invalid escape sequence '\\d'\n",
      "<>:5: SyntaxWarning: invalid escape sequence '\\d'\n",
      "C:\\Users\\guief\\AppData\\Local\\Temp\\ipykernel_33240\\4182394453.py:5: SyntaxWarning: invalid escape sequence '\\d'\n",
      "  image = cv2.imread('data\\discharge_print_128x128.png')\n",
      "C:\\Users\\guief\\AppData\\Local\\Temp\\ipykernel_33240\\4182394453.py:5: SyntaxWarning: invalid escape sequence '\\d'\n",
      "  image = cv2.imread('data\\discharge_print_128x128.png')\n"
     ]
    },
    {
     "ename": "ModuleNotFoundError",
     "evalue": "No module named 'numpy'",
     "output_type": "error",
     "traceback": [
      "\u001b[31m---------------------------------------------------------------------------\u001b[39m",
      "\u001b[31mModuleNotFoundError\u001b[39m                       Traceback (most recent call last)",
      "\u001b[36mCell\u001b[39m\u001b[36m \u001b[39m\u001b[32mIn[1]\u001b[39m\u001b[32m, line 1\u001b[39m\n\u001b[32m----> \u001b[39m\u001b[32m1\u001b[39m \u001b[38;5;28;01mimport\u001b[39;00m\u001b[38;5;250m \u001b[39m\u001b[34;01mnumpy\u001b[39;00m\u001b[38;5;250m \u001b[39m\u001b[38;5;28;01mas\u001b[39;00m\u001b[38;5;250m \u001b[39m\u001b[34;01mnp\u001b[39;00m\n\u001b[32m      2\u001b[39m \u001b[38;5;28;01mimport\u001b[39;00m\u001b[38;5;250m \u001b[39m\u001b[34;01mmatplotlib\u001b[39;00m\u001b[34;01m.\u001b[39;00m\u001b[34;01mpyplot\u001b[39;00m\u001b[38;5;250m \u001b[39m\u001b[38;5;28;01mas\u001b[39;00m\u001b[38;5;250m \u001b[39m\u001b[34;01mplt\u001b[39;00m\n\u001b[32m      3\u001b[39m \u001b[38;5;28;01mimport\u001b[39;00m\u001b[38;5;250m \u001b[39m\u001b[34;01mcv2\u001b[39;00m\n",
      "\u001b[31mModuleNotFoundError\u001b[39m: No module named 'numpy'"
     ]
    }
   ],
   "source": [
    "import numpy as np\n",
    "import matplotlib.pyplot as plt\n",
    "import cv2\n",
    "\n",
    "image = cv2.imread('data\\discharge_print_128x128.png')\n",
    "\n",
    "# cv2 opens in BGR format for some reason\n",
    "image_rgb = cv2.cvtColor(image, cv2.COLOR_BGR2RGB)\n",
    "\n",
    "# Recommended to convert to float32 do the mathematical expressions with more precision\n",
    "im = image_rgb.astype(np.float32)\n",
    "\n",
    "print(f\"Image shape: {im.shape}\")\n",
    "\n",
    "plt.imshow(im.astype(np.uint8))\n",
    "plt.title(\"Original Image\")\n",
    "plt.axis('off')\n",
    "plt.show()"
   ]
  },
  {
   "cell_type": "code",
   "execution_count": 4,
   "id": "2d8b2eb4",
   "metadata": {},
   "outputs": [
    {
     "ename": "NameError",
     "evalue": "name 'np' is not defined",
     "output_type": "error",
     "traceback": [
      "\u001b[31m---------------------------------------------------------------------------\u001b[39m",
      "\u001b[31mNameError\u001b[39m                                 Traceback (most recent call last)",
      "\u001b[36mCell\u001b[39m\u001b[36m \u001b[39m\u001b[32mIn[4]\u001b[39m\u001b[32m, line 30\u001b[39m\n\u001b[32m     27\u001b[39m     \u001b[38;5;28;01mreturn\u001b[39;00m gaus\n\u001b[32m     29\u001b[39m \u001b[38;5;66;03m# This returns a mean vector (one mean for each channel)\u001b[39;00m\n\u001b[32m---> \u001b[39m\u001b[32m30\u001b[39m u = \u001b[43mnp\u001b[49m.mean(im, axis=(\u001b[32m0\u001b[39m, \u001b[32m1\u001b[39m))\n\u001b[32m     33\u001b[39m tu = (im - u)/np.sqrt(im[:,:,\u001b[32m0\u001b[39m].size)\n\u001b[32m     35\u001b[39m tu_pad = generate_zero_padding_fft(tu)\n",
      "\u001b[31mNameError\u001b[39m: name 'np' is not defined"
     ]
    }
   ],
   "source": [
    "def generate_zero_padding_kernel(im, k):\n",
    "    pad_width = k // 2\n",
    "\n",
    "    if im.ndim == 3:\n",
    "        m, n, c = im.shape\n",
    "        im_pad = np.zeros((m + 2 * pad_width, n + 2 * pad_width, c), dtype=im.dtype)\n",
    "        im_pad[pad_width:-pad_width, pad_width:-pad_width, :] = im\n",
    "    elif im.ndim == 2:\n",
    "        m, n = im.shape\n",
    "        im_pad = np.zeros((m + 2 * pad_width, n + 2 * pad_width), dtype=im.dtype)\n",
    "        im_pad[pad_width:-pad_width, pad_width:-pad_width] = im\n",
    "    else:\n",
    "        raise ValueError(\"Image must have either 2 or 3 dimensions\")\n",
    "\n",
    "    return im_pad\n",
    "\n",
    "def generate_zero_padding_fft(im):\n",
    "    m, n, c = im.shape\n",
    "    im_pad = np.zeros((2*m, 2*n, c))\n",
    "    im_pad[:m, :n, :] = im\n",
    "    print(im.shape, im_pad.shape)\n",
    "    return im_pad\n",
    "\n",
    "def generate_gausian_matrix(shape):\n",
    "    gaus = np.random.randn(*shape)\n",
    "\n",
    "    return gaus\n",
    "\n",
    "# This returns a mean vector (one mean for each channel)\n",
    "u = np.mean(im, axis=(0, 1))\n",
    "\n",
    "\n",
    "tu = (im - u)/np.sqrt(im[:,:,0].size)\n",
    "\n",
    "tu_pad = generate_zero_padding_fft(tu)\n",
    "\n",
    "W = generate_gausian_matrix(tu_pad.shape)\n",
    "\n",
    "tu_fft = np.fft.fft2(tu_pad, axes=(0, 1))\n",
    "W_fft = np.fft.fft2(W, axes=(0, 1))\n",
    "\n",
    "convolution = tu_fft * W_fft\n",
    "\n",
    "im_convoluted = np.fft.ifft2(convolution, axes=(0, 1))\n",
    "\n",
    "# Remove padding\n",
    "im_convoluted_unpad = im_convoluted[0:im.shape[0], 0:im.shape[1]]\n",
    "\n",
    "# Remember to get that ifft returns a complex number!\n",
    "result = u + np.real(im_convoluted_unpad)\n",
    "\n",
    "# The previous operations make it so that result has negative values, we need to clip them\n",
    "final_result = np.clip(result, 0, 255).astype(np.uint8)\n",
    "\n",
    "plt.imshow(final_result)"
   ]
  },
  {
   "cell_type": "markdown",
   "id": "d14cbb55",
   "metadata": {},
   "source": [
    "Problems:\n",
    "\n",
    "- Generated three different gaussian noises, one for each color. Since they were randomized separately, this messed up the covariance between colors. To fix this i should have done one random and copy this to the other 2 channels -> Explained in the 3.1 section of the paper\n",
    "\n",
    "\n",
    "- Maybe the convolution was wrong. I was not supposed to multiply the magnitude of the image and the gaussian noise's magnitude? Maybe preserve the magnitude from the original image and then just replace the phase by the gaussian's, proving that for textures that does not change anything.\n",
    "\n",
    "\n",
    "\n",
    "\n",
    "Fix:\n",
    "Generate three equal noises\n",
    "\n",
    "Change the logic to:\n",
    "\n",
    "U = v + F-1( |t_v|  /_ arg(W)+arg(W)  )\n",
    "\n",
    "Basically we maintain the magnitude from our \"bord\" (the ohmega set) and randomize the phase, making it chaotic, as a microtexture should be.\n",
    "\n",
    "\n",
    "\n",
    "OBS: Since im doing \"manually\", there will be no need to do the padding"
   ]
  },
  {
   "cell_type": "code",
   "execution_count": 5,
   "id": "c879057e",
   "metadata": {},
   "outputs": [
    {
     "ename": "NameError",
     "evalue": "name 'np' is not defined",
     "output_type": "error",
     "traceback": [
      "\u001b[31m---------------------------------------------------------------------------\u001b[39m",
      "\u001b[31mNameError\u001b[39m                                 Traceback (most recent call last)",
      "\u001b[36mCell\u001b[39m\u001b[36m \u001b[39m\u001b[32mIn[5]\u001b[39m\u001b[32m, line 30\u001b[39m\n\u001b[32m     27\u001b[39m     \u001b[38;5;28;01mreturn\u001b[39;00m gaus\n\u001b[32m     29\u001b[39m \u001b[38;5;66;03m# This returns a mean vector (one mean for each channel)\u001b[39;00m\n\u001b[32m---> \u001b[39m\u001b[32m30\u001b[39m u = \u001b[43mnp\u001b[49m.mean(im, axis=(\u001b[32m0\u001b[39m, \u001b[32m1\u001b[39m))\n\u001b[32m     33\u001b[39m tu = (im - u)\n\u001b[32m     36\u001b[39m single_channel_noise = np.array(generate_gausian_matrix(tu.shape[\u001b[32m0\u001b[39m:\u001b[32m2\u001b[39m]))\n",
      "\u001b[31mNameError\u001b[39m: name 'np' is not defined"
     ]
    }
   ],
   "source": [
    "def generate_zero_padding_kernel(im, k):\n",
    "    pad_width = k // 2\n",
    "\n",
    "    if im.ndim == 3:\n",
    "        m, n, c = im.shape\n",
    "        im_pad = np.zeros((m + 2 * pad_width, n + 2 * pad_width, c), dtype=im.dtype)\n",
    "        im_pad[pad_width:-pad_width, pad_width:-pad_width, :] = im\n",
    "    elif im.ndim == 2:\n",
    "        m, n = im.shape\n",
    "        im_pad = np.zeros((m + 2 * pad_width, n + 2 * pad_width), dtype=im.dtype)\n",
    "        im_pad[pad_width:-pad_width, pad_width:-pad_width] = im\n",
    "    else:\n",
    "        raise ValueError(\"Image must have either 2 or 3 dimensions\")\n",
    "\n",
    "    return im_pad\n",
    "\n",
    "def generate_zero_padding_fft(im):\n",
    "    m, n, c = im.shape\n",
    "    im_pad = np.zeros((2*m, 2*n, c))\n",
    "    im_pad[:m, :n, :] = im\n",
    "    print(im.shape, im_pad.shape)\n",
    "    return im_pad\n",
    "\n",
    "def generate_gausian_matrix(shape):\n",
    "    gaus = np.random.randn(*shape)\n",
    "\n",
    "    return gaus\n",
    "\n",
    "# This returns a mean vector (one mean for each channel)\n",
    "u = np.mean(im, axis=(0, 1))\n",
    "\n",
    "\n",
    "tu = (im - u)\n",
    "\n",
    "\n",
    "single_channel_noise = np.array(generate_gausian_matrix(tu.shape[0:2]))\n",
    "\n",
    "W = np.dstack([single_channel_noise, single_channel_noise, single_channel_noise])\n",
    "\n",
    "tu_fft = np.fft.fft2(tu, axes=(0, 1))\n",
    "tu_mag = np.abs(tu_fft)\n",
    "tu_phase = np.angle(tu_fft)\n",
    "\n",
    "\n",
    "W_fft = np.fft.fft2(W, axes=(0, 1))\n",
    "W_mag = np.abs(W_fft)\n",
    "W_phase = np.angle(W_fft)\n",
    "\n",
    "# Assemble both\n",
    "result = tu_mag * np.exp(1j * W_phase)\n",
    "\n",
    "image_gaussian_noise = np.fft.ifft2(result, axes=(0, 1))\n",
    "\n",
    "\n",
    "# Remember to get that ifft returns a complex number!\n",
    "result = u + np.real(image_gaussian_noise)\n",
    "\n",
    "# The previous operations make it so that result has negative values, we need to clip them\n",
    "final_result = np.clip(result, 0, 255).astype(np.uint8)\n",
    "\n",
    "plt.imshow(final_result)"
   ]
  },
  {
   "cell_type": "code",
   "execution_count": 6,
   "id": "1c7c27c1",
   "metadata": {},
   "outputs": [
    {
     "ename": "NameError",
     "evalue": "name 'plt' is not defined",
     "output_type": "error",
     "traceback": [
      "\u001b[31m---------------------------------------------------------------------------\u001b[39m",
      "\u001b[31mNameError\u001b[39m                                 Traceback (most recent call last)",
      "\u001b[36mCell\u001b[39m\u001b[36m \u001b[39m\u001b[32mIn[6]\u001b[39m\u001b[32m, line 1\u001b[39m\n\u001b[32m----> \u001b[39m\u001b[32m1\u001b[39m fig, ax = \u001b[43mplt\u001b[49m.subplots(\u001b[32m1\u001b[39m, \u001b[32m2\u001b[39m, figsize=(\u001b[32m10\u001b[39m, \u001b[32m5\u001b[39m)) \u001b[38;5;66;03m# Adicionar figsize é uma boa prática\u001b[39;00m\n\u001b[32m      4\u001b[39m ax[\u001b[32m0\u001b[39m].imshow(im.astype(np.uint8))\n\u001b[32m      5\u001b[39m ax[\u001b[32m0\u001b[39m].set_title(\u001b[33m\"\u001b[39m\u001b[33mOriginal Image\u001b[39m\u001b[33m\"\u001b[39m)\n",
      "\u001b[31mNameError\u001b[39m: name 'plt' is not defined"
     ]
    }
   ],
   "source": [
    "fig, ax = plt.subplots(1, 2, figsize=(10, 5)) # Adicionar figsize é uma boa prática\n",
    "\n",
    "\n",
    "ax[0].imshow(im.astype(np.uint8))\n",
    "ax[0].set_title(\"Original Image\")\n",
    "\n",
    "ax[1].imshow(final_result)\n",
    "ax[1].set_title(\"Synthesized Result\")\n",
    "\n",
    "ax[0].axis('off')\n",
    "ax[1].axis('off')\n",
    "\n",
    "plt.tight_layout()\n",
    "\n",
    "plt.show()"
   ]
  },
  {
   "cell_type": "markdown",
   "id": "ccab43ec",
   "metadata": {},
   "source": [
    "TO DO: add the masks to see the results"
   ]
  }
 ],
 "metadata": {
  "kernelspec": {
   "display_name": ".venv",
   "language": "python",
   "name": "python3"
  },
  "language_info": {
   "codemirror_mode": {
    "name": "ipython",
    "version": 3
   },
   "file_extension": ".py",
   "mimetype": "text/x-python",
   "name": "python",
   "nbconvert_exporter": "python",
   "pygments_lexer": "ipython3",
   "version": "3.12.3"
  }
 },
 "nbformat": 4,
 "nbformat_minor": 5
}
